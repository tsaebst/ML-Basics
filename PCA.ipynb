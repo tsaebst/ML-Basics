{
  "cells": [
    {
      "cell_type": "markdown",
      "metadata": {
        "id": "K3Apn4ypGRVz"
      },
      "source": [
        "# Завдання №3 РСА"
      ]
    },
    {
      "cell_type": "code",
      "execution_count": 21,
      "outputs": [],
      "source": [
        "import numpy as np\n",
        "from time import process_time\n",
        "from sklearn.ensemble import RandomForestClassifier\n",
        "from sklearn.linear_model import LogisticRegression\n",
        "from sklearn.model_selection import train_test_split\n",
        "from sklearn.metrics import accuracy_score\n",
        "from sklearn.decomposition import PCA\n",
        "from sklearn.datasets import fetch_openml\n",
        "import pandas as pd\n",
        "import matplotlib.pyplot as plt\n"
      ],
      "metadata": {
        "id": "lKJ8-0hsalPz"
      }
    },
    {
      "cell_type": "markdown",
      "metadata": {
        "id": "KW9XeTa1GRVz"
      },
      "source": [
        "*Завдання 1: Розбийте MNIST на тренувальну та навчальну вибірки (60k + 10k). Натренуйте Random Forest classifier ти виміряйте час тренування. Обчисліть точність на тестовій вибірці.*"
      ]
    },
    {
      "cell_type": "code",
      "execution_count": 4,
      "metadata": {
        "id": "1FwUvN4HGsPF"
      },
      "outputs": [],
      "source": [
        "from sklearn.datasets import fetch_openml\n",
        "mnist = fetch_openml('mnist_784', version=1, cache=True)\n",
        "\n",
        "X = mnist[\"data\"]\n",
        "y = mnist[\"target\"].astype(np.uint8)"
      ]
    },
    {
      "cell_type": "code",
      "execution_count": 5,
      "outputs": [],
      "source": [
        "X_train, X_test, y_train, y_test = train_test_split(X, y, train_size=60000, test_size=10000, random_state=42)"
      ],
      "metadata": {
        "id": "OF8Uj2MFalP0"
      }
    },
    {
      "cell_type": "code",
      "execution_count": 6,
      "outputs": [],
      "source": [
        "start = process_time()"
      ],
      "metadata": {
        "id": "VoM2E1toalP0"
      }
    },
    {
      "cell_type": "code",
      "execution_count": 7,
      "outputs": [],
      "source": [
        "rfc = RandomForestClassifier()\n",
        "rfc.fit(X_train, y_train)\n",
        "end = process_time()"
      ],
      "metadata": {
        "id": "1AkyOh_3alP1"
      }
    },
    {
      "cell_type": "code",
      "execution_count": 8,
      "outputs": [
        {
          "output_type": "stream",
          "name": "stdout",
          "text": [
            "Training took us 0.9 minutes.\n"
          ]
        }
      ],
      "source": [
        "print(f\"Training took us {((end-start)/60):.1f} minutes.\")"
      ],
      "metadata": {
        "pycharm": {
          "is_executing": true
        },
        "colab": {
          "base_uri": "https://localhost:8080/"
        },
        "id": "gKHz7zWbalP1",
        "outputId": "e0bcd19c-ea3c-430b-f4a6-1e00ef3838f6"
      }
    },
    {
      "cell_type": "code",
      "execution_count": 9,
      "outputs": [
        {
          "output_type": "stream",
          "name": "stdout",
          "text": [
            "Accuracy of the model: 0.9668\n"
          ]
        }
      ],
      "source": [
        "y_pred = rfc.predict(X_test)\n",
        "accuracy = accuracy_score(y_test, y_pred)\n",
        "print(f\"Accuracy of the model: {accuracy:.4f}\")"
      ],
      "metadata": {
        "colab": {
          "base_uri": "https://localhost:8080/"
        },
        "id": "oltvQBzJalP2",
        "outputId": "b9db1424-0643-4711-b797-72411b5f8fe9"
      }
    },
    {
      "cell_type": "markdown",
      "metadata": {
        "id": "nzxht0sEGRVz"
      },
      "source": [
        "*Завдання 2: Застосуйте PCA з поясненою дисперсією 95%. Повторіть тренування. Порівняйте час тренування та точніть з попередньою вправою.*"
      ]
    },
    {
      "cell_type": "markdown",
      "source": [
        "# PCA via Scikit-learn tools"
      ],
      "metadata": {
        "id": "r8e7kts0bA0Z"
      }
    },
    {
      "cell_type": "code",
      "source": [
        "pca_full = PCA().fit(X_train)\n",
        "cumulative_variance = np.cumsum(pca_full.explained_variance_ratio_)\n",
        "optimal_components = np.argmax(cumulative_variance >= 0.95) + 1  # min amount of components with this disperse\n",
        "print(f\"For 95% disp optimal amount of components will be {optimal_components} components.\")"
      ],
      "metadata": {
        "colab": {
          "base_uri": "https://localhost:8080/"
        },
        "id": "dzXOILZaq80b",
        "outputId": "b36ddfa8-b8a7-4dd8-e499-c36c9a2cfa74"
      },
      "execution_count": 76,
      "outputs": [
        {
          "output_type": "stream",
          "name": "stdout",
          "text": [
            "For 95% disp optimal amount of components will be 154 components.\n"
          ]
        }
      ]
    },
    {
      "cell_type": "code",
      "execution_count": 12,
      "metadata": {
        "id": "LZ86jK7CalP2"
      },
      "outputs": [],
      "source": [
        "# we choose high explained variance as it usually indicates that the model fits the data well\n",
        "pca = PCA(n_components=0.95, random_state=42)"
      ]
    },
    {
      "cell_type": "code",
      "source": [
        "X_train_pca = pca.fit_transform(X_train)\n",
        "X_test_pca = pca.transform(X_test)"
      ],
      "metadata": {
        "id": "XbUJilzEdbSt"
      },
      "execution_count": 13,
      "outputs": []
    },
    {
      "cell_type": "code",
      "source": [
        "print(f\"PCA model chose {pca.n_components_} components to retain 95% of the variance.\")"
      ],
      "metadata": {
        "colab": {
          "base_uri": "https://localhost:8080/"
        },
        "id": "d0j1PhhgrNQ1",
        "outputId": "c6e72b4d-9753-4451-92e8-29d908b4347a"
      },
      "execution_count": 77,
      "outputs": [
        {
          "output_type": "stream",
          "name": "stdout",
          "text": [
            "The PCA model chose 154 components to retain 95% of the variance.\n"
          ]
        }
      ]
    },
    {
      "cell_type": "markdown",
      "source": [
        "Let's have a look at it"
      ],
      "metadata": {
        "id": "-cR1IdJvfKIl"
      }
    },
    {
      "cell_type": "code",
      "source": [
        "pd.DataFrame(X_train_pca).head(1)"
      ],
      "metadata": {
        "colab": {
          "base_uri": "https://localhost:8080/",
          "height": 130
        },
        "id": "t3jHES1cdH_v",
        "outputId": "065bfe60-eed5-4255-bed2-be60743d9213"
      },
      "execution_count": 23,
      "outputs": [
        {
          "output_type": "execute_result",
          "data": {
            "text/plain": [
              "          0          1           2           3           4           5    \\\n",
              "0  859.876066 -21.019837 -817.592287 -101.271182  287.550924  303.068107   \n",
              "\n",
              "         6           7           8           9    ...      144        145  \\\n",
              "0  16.415654 -101.266964 -147.733711  635.527224  ...  19.6839 -48.132034   \n",
              "\n",
              "          146        147       148        149        150        151  \\\n",
              "0  110.079557  63.553056  2.765782 -59.604145 -41.331439 -27.136054   \n",
              "\n",
              "         152        153  \n",
              "0  25.923343 -76.307887  \n",
              "\n",
              "[1 rows x 154 columns]"
            ],
            "text/html": [
              "\n",
              "  <div id=\"df-322942df-2c9b-4881-9aa8-8366c2690671\" class=\"colab-df-container\">\n",
              "    <div>\n",
              "<style scoped>\n",
              "    .dataframe tbody tr th:only-of-type {\n",
              "        vertical-align: middle;\n",
              "    }\n",
              "\n",
              "    .dataframe tbody tr th {\n",
              "        vertical-align: top;\n",
              "    }\n",
              "\n",
              "    .dataframe thead th {\n",
              "        text-align: right;\n",
              "    }\n",
              "</style>\n",
              "<table border=\"1\" class=\"dataframe\">\n",
              "  <thead>\n",
              "    <tr style=\"text-align: right;\">\n",
              "      <th></th>\n",
              "      <th>0</th>\n",
              "      <th>1</th>\n",
              "      <th>2</th>\n",
              "      <th>3</th>\n",
              "      <th>4</th>\n",
              "      <th>5</th>\n",
              "      <th>6</th>\n",
              "      <th>7</th>\n",
              "      <th>8</th>\n",
              "      <th>9</th>\n",
              "      <th>...</th>\n",
              "      <th>144</th>\n",
              "      <th>145</th>\n",
              "      <th>146</th>\n",
              "      <th>147</th>\n",
              "      <th>148</th>\n",
              "      <th>149</th>\n",
              "      <th>150</th>\n",
              "      <th>151</th>\n",
              "      <th>152</th>\n",
              "      <th>153</th>\n",
              "    </tr>\n",
              "  </thead>\n",
              "  <tbody>\n",
              "    <tr>\n",
              "      <th>0</th>\n",
              "      <td>859.876066</td>\n",
              "      <td>-21.019837</td>\n",
              "      <td>-817.592287</td>\n",
              "      <td>-101.271182</td>\n",
              "      <td>287.550924</td>\n",
              "      <td>303.068107</td>\n",
              "      <td>16.415654</td>\n",
              "      <td>-101.266964</td>\n",
              "      <td>-147.733711</td>\n",
              "      <td>635.527224</td>\n",
              "      <td>...</td>\n",
              "      <td>19.6839</td>\n",
              "      <td>-48.132034</td>\n",
              "      <td>110.079557</td>\n",
              "      <td>63.553056</td>\n",
              "      <td>2.765782</td>\n",
              "      <td>-59.604145</td>\n",
              "      <td>-41.331439</td>\n",
              "      <td>-27.136054</td>\n",
              "      <td>25.923343</td>\n",
              "      <td>-76.307887</td>\n",
              "    </tr>\n",
              "  </tbody>\n",
              "</table>\n",
              "<p>1 rows × 154 columns</p>\n",
              "</div>\n",
              "    <div class=\"colab-df-buttons\">\n",
              "\n",
              "  <div class=\"colab-df-container\">\n",
              "    <button class=\"colab-df-convert\" onclick=\"convertToInteractive('df-322942df-2c9b-4881-9aa8-8366c2690671')\"\n",
              "            title=\"Convert this dataframe to an interactive table.\"\n",
              "            style=\"display:none;\">\n",
              "\n",
              "  <svg xmlns=\"http://www.w3.org/2000/svg\" height=\"24px\" viewBox=\"0 -960 960 960\">\n",
              "    <path d=\"M120-120v-720h720v720H120Zm60-500h600v-160H180v160Zm220 220h160v-160H400v160Zm0 220h160v-160H400v160ZM180-400h160v-160H180v160Zm440 0h160v-160H620v160ZM180-180h160v-160H180v160Zm440 0h160v-160H620v160Z\"/>\n",
              "  </svg>\n",
              "    </button>\n",
              "\n",
              "  <style>\n",
              "    .colab-df-container {\n",
              "      display:flex;\n",
              "      gap: 12px;\n",
              "    }\n",
              "\n",
              "    .colab-df-convert {\n",
              "      background-color: #E8F0FE;\n",
              "      border: none;\n",
              "      border-radius: 50%;\n",
              "      cursor: pointer;\n",
              "      display: none;\n",
              "      fill: #1967D2;\n",
              "      height: 32px;\n",
              "      padding: 0 0 0 0;\n",
              "      width: 32px;\n",
              "    }\n",
              "\n",
              "    .colab-df-convert:hover {\n",
              "      background-color: #E2EBFA;\n",
              "      box-shadow: 0px 1px 2px rgba(60, 64, 67, 0.3), 0px 1px 3px 1px rgba(60, 64, 67, 0.15);\n",
              "      fill: #174EA6;\n",
              "    }\n",
              "\n",
              "    .colab-df-buttons div {\n",
              "      margin-bottom: 4px;\n",
              "    }\n",
              "\n",
              "    [theme=dark] .colab-df-convert {\n",
              "      background-color: #3B4455;\n",
              "      fill: #D2E3FC;\n",
              "    }\n",
              "\n",
              "    [theme=dark] .colab-df-convert:hover {\n",
              "      background-color: #434B5C;\n",
              "      box-shadow: 0px 1px 3px 1px rgba(0, 0, 0, 0.15);\n",
              "      filter: drop-shadow(0px 1px 2px rgba(0, 0, 0, 0.3));\n",
              "      fill: #FFFFFF;\n",
              "    }\n",
              "  </style>\n",
              "\n",
              "    <script>\n",
              "      const buttonEl =\n",
              "        document.querySelector('#df-322942df-2c9b-4881-9aa8-8366c2690671 button.colab-df-convert');\n",
              "      buttonEl.style.display =\n",
              "        google.colab.kernel.accessAllowed ? 'block' : 'none';\n",
              "\n",
              "      async function convertToInteractive(key) {\n",
              "        const element = document.querySelector('#df-322942df-2c9b-4881-9aa8-8366c2690671');\n",
              "        const dataTable =\n",
              "          await google.colab.kernel.invokeFunction('convertToInteractive',\n",
              "                                                    [key], {});\n",
              "        if (!dataTable) return;\n",
              "\n",
              "        const docLinkHtml = 'Like what you see? Visit the ' +\n",
              "          '<a target=\"_blank\" href=https://colab.research.google.com/notebooks/data_table.ipynb>data table notebook</a>'\n",
              "          + ' to learn more about interactive tables.';\n",
              "        element.innerHTML = '';\n",
              "        dataTable['output_type'] = 'display_data';\n",
              "        await google.colab.output.renderOutput(dataTable, element);\n",
              "        const docLink = document.createElement('div');\n",
              "        docLink.innerHTML = docLinkHtml;\n",
              "        element.appendChild(docLink);\n",
              "      }\n",
              "    </script>\n",
              "  </div>\n",
              "\n",
              "    </div>\n",
              "  </div>\n"
            ],
            "application/vnd.google.colaboratory.intrinsic+json": {
              "type": "dataframe"
            }
          },
          "metadata": {},
          "execution_count": 23
        }
      ]
    },
    {
      "cell_type": "code",
      "source": [
        "pd.DataFrame(X_test_pca).head(1)"
      ],
      "metadata": {
        "colab": {
          "base_uri": "https://localhost:8080/",
          "height": 130
        },
        "id": "Kdo_iJNzfMzm",
        "outputId": "694b9012-d769-4ddd-fe91-1476fe3e0556"
      },
      "execution_count": 24,
      "outputs": [
        {
          "output_type": "execute_result",
          "data": {
            "text/plain": [
              "          0           1           2           3           4           5    \\\n",
              "0  721.748553  399.009737  324.848869  457.257985  868.837513  623.158763   \n",
              "\n",
              "          6          7           8           9    ...        144        145  \\\n",
              "0 -328.283471 -98.042645 -162.591941  124.147185  ... -24.475335 -71.593369   \n",
              "\n",
              "        146        147        148       149      150      151       152  \\\n",
              "0 -7.737512  15.335717 -31.638253  3.439306  8.28619 -2.35117  34.97652   \n",
              "\n",
              "         153  \n",
              "0 -73.048506  \n",
              "\n",
              "[1 rows x 154 columns]"
            ],
            "text/html": [
              "\n",
              "  <div id=\"df-a30b3649-f0b7-4e3b-9016-56c956de6527\" class=\"colab-df-container\">\n",
              "    <div>\n",
              "<style scoped>\n",
              "    .dataframe tbody tr th:only-of-type {\n",
              "        vertical-align: middle;\n",
              "    }\n",
              "\n",
              "    .dataframe tbody tr th {\n",
              "        vertical-align: top;\n",
              "    }\n",
              "\n",
              "    .dataframe thead th {\n",
              "        text-align: right;\n",
              "    }\n",
              "</style>\n",
              "<table border=\"1\" class=\"dataframe\">\n",
              "  <thead>\n",
              "    <tr style=\"text-align: right;\">\n",
              "      <th></th>\n",
              "      <th>0</th>\n",
              "      <th>1</th>\n",
              "      <th>2</th>\n",
              "      <th>3</th>\n",
              "      <th>4</th>\n",
              "      <th>5</th>\n",
              "      <th>6</th>\n",
              "      <th>7</th>\n",
              "      <th>8</th>\n",
              "      <th>9</th>\n",
              "      <th>...</th>\n",
              "      <th>144</th>\n",
              "      <th>145</th>\n",
              "      <th>146</th>\n",
              "      <th>147</th>\n",
              "      <th>148</th>\n",
              "      <th>149</th>\n",
              "      <th>150</th>\n",
              "      <th>151</th>\n",
              "      <th>152</th>\n",
              "      <th>153</th>\n",
              "    </tr>\n",
              "  </thead>\n",
              "  <tbody>\n",
              "    <tr>\n",
              "      <th>0</th>\n",
              "      <td>721.748553</td>\n",
              "      <td>399.009737</td>\n",
              "      <td>324.848869</td>\n",
              "      <td>457.257985</td>\n",
              "      <td>868.837513</td>\n",
              "      <td>623.158763</td>\n",
              "      <td>-328.283471</td>\n",
              "      <td>-98.042645</td>\n",
              "      <td>-162.591941</td>\n",
              "      <td>124.147185</td>\n",
              "      <td>...</td>\n",
              "      <td>-24.475335</td>\n",
              "      <td>-71.593369</td>\n",
              "      <td>-7.737512</td>\n",
              "      <td>15.335717</td>\n",
              "      <td>-31.638253</td>\n",
              "      <td>3.439306</td>\n",
              "      <td>8.28619</td>\n",
              "      <td>-2.35117</td>\n",
              "      <td>34.97652</td>\n",
              "      <td>-73.048506</td>\n",
              "    </tr>\n",
              "  </tbody>\n",
              "</table>\n",
              "<p>1 rows × 154 columns</p>\n",
              "</div>\n",
              "    <div class=\"colab-df-buttons\">\n",
              "\n",
              "  <div class=\"colab-df-container\">\n",
              "    <button class=\"colab-df-convert\" onclick=\"convertToInteractive('df-a30b3649-f0b7-4e3b-9016-56c956de6527')\"\n",
              "            title=\"Convert this dataframe to an interactive table.\"\n",
              "            style=\"display:none;\">\n",
              "\n",
              "  <svg xmlns=\"http://www.w3.org/2000/svg\" height=\"24px\" viewBox=\"0 -960 960 960\">\n",
              "    <path d=\"M120-120v-720h720v720H120Zm60-500h600v-160H180v160Zm220 220h160v-160H400v160Zm0 220h160v-160H400v160ZM180-400h160v-160H180v160Zm440 0h160v-160H620v160ZM180-180h160v-160H180v160Zm440 0h160v-160H620v160Z\"/>\n",
              "  </svg>\n",
              "    </button>\n",
              "\n",
              "  <style>\n",
              "    .colab-df-container {\n",
              "      display:flex;\n",
              "      gap: 12px;\n",
              "    }\n",
              "\n",
              "    .colab-df-convert {\n",
              "      background-color: #E8F0FE;\n",
              "      border: none;\n",
              "      border-radius: 50%;\n",
              "      cursor: pointer;\n",
              "      display: none;\n",
              "      fill: #1967D2;\n",
              "      height: 32px;\n",
              "      padding: 0 0 0 0;\n",
              "      width: 32px;\n",
              "    }\n",
              "\n",
              "    .colab-df-convert:hover {\n",
              "      background-color: #E2EBFA;\n",
              "      box-shadow: 0px 1px 2px rgba(60, 64, 67, 0.3), 0px 1px 3px 1px rgba(60, 64, 67, 0.15);\n",
              "      fill: #174EA6;\n",
              "    }\n",
              "\n",
              "    .colab-df-buttons div {\n",
              "      margin-bottom: 4px;\n",
              "    }\n",
              "\n",
              "    [theme=dark] .colab-df-convert {\n",
              "      background-color: #3B4455;\n",
              "      fill: #D2E3FC;\n",
              "    }\n",
              "\n",
              "    [theme=dark] .colab-df-convert:hover {\n",
              "      background-color: #434B5C;\n",
              "      box-shadow: 0px 1px 3px 1px rgba(0, 0, 0, 0.15);\n",
              "      filter: drop-shadow(0px 1px 2px rgba(0, 0, 0, 0.3));\n",
              "      fill: #FFFFFF;\n",
              "    }\n",
              "  </style>\n",
              "\n",
              "    <script>\n",
              "      const buttonEl =\n",
              "        document.querySelector('#df-a30b3649-f0b7-4e3b-9016-56c956de6527 button.colab-df-convert');\n",
              "      buttonEl.style.display =\n",
              "        google.colab.kernel.accessAllowed ? 'block' : 'none';\n",
              "\n",
              "      async function convertToInteractive(key) {\n",
              "        const element = document.querySelector('#df-a30b3649-f0b7-4e3b-9016-56c956de6527');\n",
              "        const dataTable =\n",
              "          await google.colab.kernel.invokeFunction('convertToInteractive',\n",
              "                                                    [key], {});\n",
              "        if (!dataTable) return;\n",
              "\n",
              "        const docLinkHtml = 'Like what you see? Visit the ' +\n",
              "          '<a target=\"_blank\" href=https://colab.research.google.com/notebooks/data_table.ipynb>data table notebook</a>'\n",
              "          + ' to learn more about interactive tables.';\n",
              "        element.innerHTML = '';\n",
              "        dataTable['output_type'] = 'display_data';\n",
              "        await google.colab.output.renderOutput(dataTable, element);\n",
              "        const docLink = document.createElement('div');\n",
              "        docLink.innerHTML = docLinkHtml;\n",
              "        element.appendChild(docLink);\n",
              "      }\n",
              "    </script>\n",
              "  </div>\n",
              "\n",
              "    </div>\n",
              "  </div>\n"
            ],
            "application/vnd.google.colaboratory.intrinsic+json": {
              "type": "dataframe"
            }
          },
          "metadata": {},
          "execution_count": 24
        }
      ]
    },
    {
      "cell_type": "markdown",
      "source": [
        "Here we're insersing original dataset using pca-dataset"
      ],
      "metadata": {
        "id": "t9TD0SMEfd3e"
      }
    },
    {
      "cell_type": "code",
      "source": [
        "X_train_pca_inversed = pca.inverse_transform(X_train_pca)"
      ],
      "metadata": {
        "id": "L5b9Tuzcfcya"
      },
      "execution_count": 25,
      "outputs": []
    },
    {
      "cell_type": "code",
      "source": [
        "X_test_pca_inversed = pca.inverse_transform(X_test_pca)"
      ],
      "metadata": {
        "id": "7cjaZHn-fvTW"
      },
      "execution_count": 26,
      "outputs": []
    },
    {
      "cell_type": "markdown",
      "source": [
        "Obviously we've lost part information after PCA"
      ],
      "metadata": {
        "id": "rLHErWHDgEc6"
      }
    },
    {
      "cell_type": "code",
      "source": [
        "np.allclose(X_train_pca_inversed, X_train)"
      ],
      "metadata": {
        "colab": {
          "base_uri": "https://localhost:8080/"
        },
        "id": "mOkKAnoLgDq_",
        "outputId": "b3be0dcd-3ba7-402e-e4d1-a13f58bc5913"
      },
      "execution_count": 27,
      "outputs": [
        {
          "output_type": "execute_result",
          "data": {
            "text/plain": [
              "False"
            ]
          },
          "metadata": {},
          "execution_count": 27
        }
      ]
    },
    {
      "cell_type": "code",
      "source": [
        "np.allclose(X_test_pca_inversed, X_test)"
      ],
      "metadata": {
        "colab": {
          "base_uri": "https://localhost:8080/"
        },
        "id": "y__xUxyVgO2S",
        "outputId": "62e2a74f-345e-48cc-e6b4-dd99a49d579e"
      },
      "execution_count": 28,
      "outputs": [
        {
          "output_type": "execute_result",
          "data": {
            "text/plain": [
              "False"
            ]
          },
          "metadata": {},
          "execution_count": 28
        }
      ]
    },
    {
      "cell_type": "markdown",
      "source": [
        "let's calculate the recovery error"
      ],
      "metadata": {
        "id": "B8aTiLR_gaWB"
      }
    },
    {
      "cell_type": "code",
      "source": [
        "np.mean(np.sum(np.square(X_train_pca_inversed - X_train), axis=1))"
      ],
      "metadata": {
        "colab": {
          "base_uri": "https://localhost:8080/"
        },
        "id": "xQkXhanSgb3L",
        "outputId": "11143d78-3297-499e-ddb5-8ee5b82f487e"
      },
      "execution_count": 29,
      "outputs": [
        {
          "output_type": "execute_result",
          "data": {
            "text/plain": [
              "170321.710633931"
            ]
          },
          "metadata": {},
          "execution_count": 29
        }
      ]
    },
    {
      "cell_type": "code",
      "source": [
        "np.mean(np.sum(np.square(X_test_pca_inversed - X_test), axis=1))"
      ],
      "metadata": {
        "colab": {
          "base_uri": "https://localhost:8080/"
        },
        "id": "S7zcKCyZghHV",
        "outputId": "8ba07861-43c0-4370-b262-80e109234998"
      },
      "execution_count": 30,
      "outputs": [
        {
          "output_type": "execute_result",
          "data": {
            "text/plain": [
              "170894.74138025937"
            ]
          },
          "metadata": {},
          "execution_count": 30
        }
      ]
    },
    {
      "cell_type": "code",
      "source": [
        "pca.explained_variance_ratio_"
      ],
      "metadata": {
        "colab": {
          "base_uri": "https://localhost:8080/"
        },
        "id": "JEwV2Y5VhUe-",
        "outputId": "04ce549f-59a9-4554-a444-f918bcabbeba"
      },
      "execution_count": 32,
      "outputs": [
        {
          "output_type": "execute_result",
          "data": {
            "text/plain": [
              "array([0.09736019, 0.07162769, 0.06157279, 0.05407583, 0.04894241,\n",
              "       0.04314663, 0.0326955 , 0.02886339, 0.02755206, 0.02336354,\n",
              "       0.02114186, 0.02036159, 0.01710273, 0.01697588, 0.01579852,\n",
              "       0.01483028, 0.01315072, 0.01277798, 0.01188548, 0.01154643,\n",
              "       0.01069553, 0.01010967, 0.00954102, 0.00907833, 0.00882614,\n",
              "       0.00838996, 0.00809334, 0.00785285, 0.00740609, 0.00689452,\n",
              "       0.00657504, 0.00644894, 0.00601529, 0.00586087, 0.00568734,\n",
              "       0.00542785, 0.00505607, 0.00487531, 0.00479006, 0.00466511,\n",
              "       0.00454422, 0.00445376, 0.00419137, 0.00396211, 0.00384115,\n",
              "       0.00375532, 0.00361444, 0.00350354, 0.00338201, 0.00319514,\n",
              "       0.00316586, 0.00309288, 0.00295258, 0.00287322, 0.00282207,\n",
              "       0.00269456, 0.00267291, 0.00256465, 0.00253613, 0.00243878,\n",
              "       0.00239702, 0.00238198, 0.00229797, 0.00221263, 0.00212635,\n",
              "       0.00205955, 0.00202272, 0.00194566, 0.00191948, 0.00188817,\n",
              "       0.00187128, 0.00180041, 0.00176297, 0.00172727, 0.0016457 ,\n",
              "       0.00163152, 0.00161329, 0.00154714, 0.00146981, 0.00142148,\n",
              "       0.00140753, 0.00140013, 0.00139289, 0.00134773, 0.00132497,\n",
              "       0.00132163, 0.00129195, 0.00125007, 0.00122785, 0.00120396,\n",
              "       0.00116068, 0.00114778, 0.00113005, 0.00109805, 0.00108254,\n",
              "       0.0010713 , 0.00103476, 0.0010329 , 0.00101057, 0.00099809,\n",
              "       0.00097645, 0.00094509, 0.00093408, 0.00091074, 0.00090133,\n",
              "       0.00088858, 0.00085956, 0.00085378, 0.0008418 , 0.00081608,\n",
              "       0.00078754, 0.00077909, 0.00077385, 0.0007638 , 0.00075879,\n",
              "       0.00074709, 0.0007305 , 0.00072573, 0.00071447, 0.00070413,\n",
              "       0.00069353, 0.00068829, 0.00067741, 0.00067223, 0.00066369,\n",
              "       0.00064404, 0.00063116, 0.00062912, 0.00061968, 0.0006013 ,\n",
              "       0.00059889, 0.00059186, 0.0005842 , 0.00058244, 0.00057936,\n",
              "       0.00057174, 0.00056297, 0.00055061, 0.00053632, 0.00052734,\n",
              "       0.00052124, 0.00050876, 0.00050274, 0.00049727, 0.00049575,\n",
              "       0.00049404, 0.00048211, 0.00048071, 0.00047165, 0.0004667 ,\n",
              "       0.00046346, 0.00046245, 0.00045808, 0.00044921])"
            ]
          },
          "metadata": {},
          "execution_count": 32
        }
      ]
    },
    {
      "cell_type": "markdown",
      "source": [
        "variance loss"
      ],
      "metadata": {
        "id": "gn1j3PKNhemY"
      }
    },
    {
      "cell_type": "code",
      "source": [
        "1 - pca.explained_variance_ratio_.sum()"
      ],
      "metadata": {
        "colab": {
          "base_uri": "https://localhost:8080/"
        },
        "id": "j6uGpiGfhYya",
        "outputId": "004a7fdd-ecbd-4834-8a58-c4c3dffa8d58"
      },
      "execution_count": 33,
      "outputs": [
        {
          "output_type": "execute_result",
          "data": {
            "text/plain": [
              "0.049631788853028436"
            ]
          },
          "metadata": {},
          "execution_count": 33
        }
      ]
    },
    {
      "cell_type": "markdown",
      "source": [
        "# Explained Variance Plot"
      ],
      "metadata": {
        "id": "D26zo_CXkARs"
      }
    },
    {
      "cell_type": "code",
      "source": [
        "# reconstruction error distribution\n",
        "X_train_reconstructed = pca.inverse_transform(X_train_pca)\n",
        "mse = np.mean((X_train - X_train_reconstructed) ** 2, axis=1)\n",
        "\n",
        "plt.figure(figsize=(6, 4))\n",
        "plt.hist(mse, bins=30, alpha=0.7)\n",
        "plt.xlabel(\"Reconstruction Mean Squared Error\")\n",
        "plt.ylabel(\"Number of Examples\")\n",
        "plt.title(\"Distribution of Reconstruction Error\")\n",
        "plt.grid(True)\n",
        "plt.show()"
      ],
      "metadata": {
        "colab": {
          "base_uri": "https://localhost:8080/",
          "height": 410
        },
        "id": "MvJHtAZcjmeF",
        "outputId": "043a0e18-0fc5-4e1c-e282-40d163d2a7d7"
      },
      "execution_count": 46,
      "outputs": [
        {
          "output_type": "display_data",
          "data": {
            "text/plain": [
              "<Figure size 600x400 with 1 Axes>"
            ],
            "image/png": "[encoded data removed]"
          },
          "metadata": {}
        }
      ]
    },
    {
      "cell_type": "markdown",
      "source": [
        "From this graph we can tell that the majority of examples have relatively low RE. PCA effectively captures most of the important information from the original data, meaning that reduced data retains most of the original variance."
      ],
      "metadata": {
        "id": "et9_dTbtlSWT"
      }
    },
    {
      "cell_type": "code",
      "execution_count": 34,
      "outputs": [],
      "source": [
        "# retrain our model on DS with pca\n",
        "start = process_time()\n",
        "rfc_pca = RandomForestClassifier(random_state=42)\n",
        "rfc_pca.fit(X_train_pca, y_train)\n",
        "end = process_time()"
      ],
      "metadata": {
        "id": "M5PapoLbalP2"
      }
    },
    {
      "cell_type": "code",
      "execution_count": 35,
      "outputs": [
        {
          "output_type": "stream",
          "name": "stdout",
          "text": [
            "Training time of Random Forest after PCA: 2.7 minutes.\n"
          ]
        }
      ],
      "source": [
        "print(f\"Training time of Random Forest after PCA: {((end - start) / 60):.1f} minutes.\")"
      ],
      "metadata": {
        "colab": {
          "base_uri": "https://localhost:8080/"
        },
        "id": "AmuzW5H5alP2",
        "outputId": "74b42a5d-4c9e-40d8-f6aa-71235b1ccc5a"
      }
    },
    {
      "cell_type": "code",
      "execution_count": 37,
      "outputs": [
        {
          "output_type": "stream",
          "name": "stdout",
          "text": [
            "Accuracy for RF after PCA: 0.9487\n"
          ]
        }
      ],
      "source": [
        "y_pred_pca = rfc_pca.predict(X_test_pca)\n",
        "accuracy_pca = accuracy_score(y_test, y_pred_pca)\n",
        "print(f\"Accuracy for RF after PCA: {accuracy_pca:.4f}\")"
      ],
      "metadata": {
        "colab": {
          "base_uri": "https://localhost:8080/"
        },
        "id": "fi_AAB-MalP2",
        "outputId": "d28b1f81-1a58-4781-b3f0-9788aa6d875a"
      }
    },
    {
      "cell_type": "markdown",
      "metadata": {
        "id": "icS_xMs5GRV0"
      },
      "source": [
        "*Завдання 3: Повторіть ці ж кроки з логістичною регресією. Зробіть висновки.*"
      ]
    },
    {
      "cell_type": "code",
      "execution_count": 38,
      "metadata": {
        "colab": {
          "base_uri": "https://localhost:8080/"
        },
        "id": "3Rg3bJs3alP3",
        "outputId": "7b9ff51e-54f2-4d55-8473-9b232ebb72bb"
      },
      "outputs": [
        {
          "output_type": "stream",
          "name": "stderr",
          "text": [
            "/usr/local/lib/python3.10/dist-packages/sklearn/linear_model/_logistic.py:469: ConvergenceWarning: lbfgs failed to converge (status=1):\n",
            "STOP: TOTAL NO. of ITERATIONS REACHED LIMIT.\n",
            "\n",
            "Increase the number of iterations (max_iter) or scale the data as shown in:\n",
            "    https://scikit-learn.org/stable/modules/preprocessing.html\n",
            "Please also refer to the documentation for alternative solver options:\n",
            "    https://scikit-learn.org/stable/modules/linear_model.html#logistic-regression\n",
            "  n_iter_i = _check_optimize_result(\n"
          ]
        }
      ],
      "source": [
        "start = process_time()\n",
        "log_reg = LogisticRegression()\n",
        "log_reg.fit(X_train, y_train)\n",
        "end = process_time()"
      ]
    },
    {
      "cell_type": "code",
      "execution_count": 39,
      "outputs": [
        {
          "output_type": "stream",
          "name": "stdout",
          "text": [
            "Training took us 1.0 minutes.\n"
          ]
        }
      ],
      "source": [
        "print(f\"Training took us {((end - start) / 60):.1f} minutes.\")"
      ],
      "metadata": {
        "colab": {
          "base_uri": "https://localhost:8080/"
        },
        "id": "OnsYMxOGalP3",
        "outputId": "a4f9d4e7-8332-4975-bb19-bac39a7f311e"
      }
    },
    {
      "cell_type": "code",
      "execution_count": 40,
      "outputs": [
        {
          "output_type": "stream",
          "name": "stdout",
          "text": [
            "Accuracy of the model: 0.9189\n"
          ]
        }
      ],
      "source": [
        "y_pred = log_reg.predict(X_test)\n",
        "accuracy = accuracy_score(y_test, y_pred)\n",
        "print(f\"Accuracy of the model: {accuracy:.4f}\")"
      ],
      "metadata": {
        "colab": {
          "base_uri": "https://localhost:8080/"
        },
        "id": "cIJ4sLmQalP3",
        "outputId": "49b18e05-c071-44b0-ce84-6e27456f8afc"
      }
    },
    {
      "cell_type": "markdown",
      "source": [
        "# Let's retrain Logistic Regression model on dataset with PCA as well"
      ],
      "metadata": {
        "collapsed": false,
        "id": "UrX4mVWvalP3"
      }
    },
    {
      "cell_type": "code",
      "execution_count": 47,
      "outputs": [
        {
          "output_type": "stream",
          "name": "stderr",
          "text": [
            "/usr/local/lib/python3.10/dist-packages/sklearn/linear_model/_logistic.py:469: ConvergenceWarning: lbfgs failed to converge (status=1):\n",
            "STOP: TOTAL NO. of ITERATIONS REACHED LIMIT.\n",
            "\n",
            "Increase the number of iterations (max_iter) or scale the data as shown in:\n",
            "    https://scikit-learn.org/stable/modules/preprocessing.html\n",
            "Please also refer to the documentation for alternative solver options:\n",
            "    https://scikit-learn.org/stable/modules/linear_model.html#logistic-regression\n",
            "  n_iter_i = _check_optimize_result(\n"
          ]
        }
      ],
      "source": [
        "start = process_time()\n",
        "log_reg_pca = LogisticRegression(random_state=42)\n",
        "log_reg_pca.fit(X_train_pca, y_train)\n",
        "end = process_time()"
      ],
      "metadata": {
        "colab": {
          "base_uri": "https://localhost:8080/"
        },
        "id": "mnR5lBWPalP3",
        "outputId": "54fec6a6-54cb-4d7c-d8cd-f7025446a2aa"
      }
    },
    {
      "cell_type": "code",
      "execution_count": 52,
      "outputs": [
        {
          "output_type": "stream",
          "name": "stdout",
          "text": [
            "Training time of Logistic Regression after PCA: 0.2 minutes.\n"
          ]
        }
      ],
      "source": [
        "print(f\"Training time of Logistic Regression after PCA: {((end - start) / 60):.1f} minutes.\")"
      ],
      "metadata": {
        "colab": {
          "base_uri": "https://localhost:8080/"
        },
        "id": "txhY6dzfalP3",
        "outputId": "47c78688-b84f-46a8-a4ba-4f83bb144e1b"
      }
    },
    {
      "cell_type": "code",
      "execution_count": 51,
      "outputs": [
        {
          "output_type": "stream",
          "name": "stdout",
          "text": [
            "Accuracy for Logistic Regression  after PCA: 0.9141\n"
          ]
        }
      ],
      "source": [
        "y_pred_pca = log_reg_pca.predict(X_test_pca)\n",
        "accuracy_pca = accuracy_score(y_test, y_pred_pca)\n",
        "print(f\"Accuracy for Logistic Regression  after PCA: {accuracy_pca:.4f}\")"
      ],
      "metadata": {
        "colab": {
          "base_uri": "https://localhost:8080/"
        },
        "id": "oTbpbPCPalP3",
        "outputId": "e6e075ac-3940-4373-cee5-e487bb3f7a91"
      }
    },
    {
      "cell_type": "markdown",
      "source": [
        "PCA resulted in a minor reduction in accuracy from 96.82% to 94.84% for RF and from 91.8 to 91.4 for LR. This trade-off is acceptable when optimizing for computational efficiency, as the loss in accuracy is not substantial. It was interesting to notice how training time for Random Forest grown from 0.5 minute to 2 minutes but the performance got worse.\n",
        "\n",
        "Applying PCA with 95% explained variance is useful when model training time and computational resources are constrained, but it doesn't guarantee that the training and testing performance will get better eventually. A slight decrease of accuracy score is acceptable, as a descriptive component gets weaker."
      ],
      "metadata": {
        "collapsed": false,
        "id": "VQBGoVlsalP3"
      }
    }
  ],
  "metadata": {
    "colab": {
      "provenance": []
    },
    "kernelspec": {
      "display_name": "Python 3 (ipykernel)",
      "language": "python",
      "name": "python3"
    },
    "language_info": {
      "codemirror_mode": {
        "name": "ipython",
        "version": 3
      },
      "file_extension": ".py",
      "mimetype": "text/x-python",
      "name": "python",
      "nbconvert_exporter": "python",
      "pygments_lexer": "ipython3",
      "version": "3.9.12"
    }
  },
  "nbformat": 4,
  "nbformat_minor": 0
}
